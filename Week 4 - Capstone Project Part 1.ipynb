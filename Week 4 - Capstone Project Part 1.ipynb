{
 "cells": [
  {
   "cell_type": "markdown",
   "metadata": {},
   "source": [
    "**Battle of the Neighborhoods | Business Proposal**"
   ]
  },
  {
   "cell_type": "markdown",
   "metadata": {},
   "source": [
    "*Introduction:*\n",
    "The purpose of this project is to examine the availability and proximity of certain neighborhoods to amenities and community conveniences.  It will compare the availability of these conveniences between two cities such as New York and Toronto. \n",
    "\n",
    "Cities often serve as a place for lower- and middle-income workers live or move to for access to steadier unskilled employment (e.g. retail / accomodation service jobs).  These workers are likely to need convenience such as access to retail stores, groceries, and other types of employers.  \n",
    "\n",
    "Many academics have studied walkability to gauge potential for economic growth.  This project may be interesting for those academics to determine the differences between various cities to determine differences in economic potential, particularly for low- and middle-income workers."
   ]
  },
  {
   "cell_type": "markdown",
   "metadata": {},
   "source": [
    "*Problem:*\n",
    "The problem that is being attempted to solve in this analysis is to determine which neighborhoods have the best proximity to retail locations."
   ]
  },
  {
   "cell_type": "markdown",
   "metadata": {},
   "source": [
    "*Data:*\n",
    "This project will used data from Foursquare to assess places data.  Foursquare's API provides access to a database of millions of places for location search, location sharing, and details about various businesses."
   ]
  },
  {
   "cell_type": "code",
   "execution_count": null,
   "metadata": {},
   "outputs": [],
   "source": []
  }
 ],
 "metadata": {
  "kernelspec": {
   "display_name": "Python",
   "language": "python",
   "name": "conda-env-python-py"
  },
  "language_info": {
   "codemirror_mode": {
    "name": "ipython",
    "version": 3
   },
   "file_extension": ".py",
   "mimetype": "text/x-python",
   "name": "python",
   "nbconvert_exporter": "python",
   "pygments_lexer": "ipython3",
   "version": "3.6.11"
  }
 },
 "nbformat": 4,
 "nbformat_minor": 4
}
